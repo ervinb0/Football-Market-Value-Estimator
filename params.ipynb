{
 "cells": [
  {
   "cell_type": "code",
   "execution_count": 1,
   "id": "8c453a98",
   "metadata": {},
   "outputs": [],
   "source": [
    "from sklearn.ensemble import RandomForestRegressor\n",
    "import pandas as pd\n",
    "import numpy as np\n",
    "from sklearn.model_selection import GridSearchCV"
   ]
  },
  {
   "cell_type": "code",
   "execution_count": 2,
   "id": "4909c2e0",
   "metadata": {},
   "outputs": [],
   "source": [
    "filepath = 'Updated2.xlsx'\n",
    "df = pd.read_excel(filepath)"
   ]
  },
  {
   "cell_type": "code",
   "execution_count": 3,
   "id": "bc67ffbb",
   "metadata": {},
   "outputs": [],
   "source": [
    "features = ['Current_Age', 'Starts', 'Min', 'Gls', 'Ast', 'CrdY', 'CrdR', 'SoT', 'G_Sh', 'Pass_Att', 'Cmp_per', 'TklW', 'Blocks', 'Int', 'Clr', 'Dribble_Att', 'Dribble_Succ_per', 'Carries', 'Targ', 'Rec_per', 'POS', 'grade_value', 'League_num', 'Club_num']  # List of column names for features\n",
    "target = 'Market_val'\n",
    "\n",
    "dataX = df[features] \n",
    "dataY = df[target]  "
   ]
  },
  {
   "cell_type": "code",
   "execution_count": 4,
   "id": "6f48bf4f",
   "metadata": {},
   "outputs": [],
   "source": [
    "dataY = np.ravel(dataY)"
   ]
  },
  {
   "cell_type": "code",
   "execution_count": 5,
   "id": "c964e440",
   "metadata": {},
   "outputs": [],
   "source": [
    "rf = RandomForestRegressor(n_estimators=200,random_state=2)\n",
    "n_estimators = [10,50,100,200,300,400,500,800,1000]\n",
    "random_state = range(1,50)\n",
    "para = dict(n_estimators=n_estimators,random_state=random_state)"
   ]
  },
  {
   "cell_type": "code",
   "execution_count": null,
   "id": "5d3d157b",
   "metadata": {},
   "outputs": [],
   "source": [
    "grid_search = GridSearchCV(rf,param_grid=para,scoring='r2',cv=5)\n",
    "grid_search.fit(dataX, dataY)\n",
    "print(\"Best: %f using %s\" % (grid_search.best_score_,grid_search.best_params_))"
   ]
  },
  {
   "cell_type": "code",
   "execution_count": null,
   "id": "4c6a596b",
   "metadata": {},
   "outputs": [],
   "source": []
  }
 ],
 "metadata": {
  "kernelspec": {
   "display_name": "Python 3 (ipykernel)",
   "language": "python",
   "name": "python3"
  },
  "language_info": {
   "codemirror_mode": {
    "name": "ipython",
    "version": 3
   },
   "file_extension": ".py",
   "mimetype": "text/x-python",
   "name": "python",
   "nbconvert_exporter": "python",
   "pygments_lexer": "ipython3",
   "version": "3.11.0"
  }
 },
 "nbformat": 4,
 "nbformat_minor": 5
}
