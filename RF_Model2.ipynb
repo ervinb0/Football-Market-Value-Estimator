{
 "cells": [
  {
   "cell_type": "code",
   "execution_count": 9,
   "id": "e6a7e845",
   "metadata": {},
   "outputs": [],
   "source": [
    "from sklearn.model_selection import cross_val_score\n",
    "import matplotlib.pyplot as plt\n",
    "from sklearn.ensemble import RandomForestRegressor\n",
    "from sklearn.inspection import permutation_importance\n",
    "from sklearn.metrics import mean_squared_error\n",
    "import pandas as pd\n",
    "import numpy as np\n",
    "import joblib\n",
    "import pickle"
   ]
  },
  {
   "cell_type": "code",
   "execution_count": 2,
   "id": "715dccf7",
   "metadata": {},
   "outputs": [],
   "source": [
    "filepath = 'Updated2.xlsx'\n",
    "df = pd.read_excel(filepath)"
   ]
  },
  {
   "cell_type": "code",
   "execution_count": 3,
   "id": "3d9726c6",
   "metadata": {},
   "outputs": [
    {
     "data": {
      "text/html": [
       "<div>\n",
       "<style scoped>\n",
       "    .dataframe tbody tr th:only-of-type {\n",
       "        vertical-align: middle;\n",
       "    }\n",
       "\n",
       "    .dataframe tbody tr th {\n",
       "        vertical-align: top;\n",
       "    }\n",
       "\n",
       "    .dataframe thead th {\n",
       "        text-align: right;\n",
       "    }\n",
       "</style>\n",
       "<table border=\"1\" class=\"dataframe\">\n",
       "  <thead>\n",
       "    <tr style=\"text-align: right;\">\n",
       "      <th></th>\n",
       "      <th>Player_index</th>\n",
       "      <th>Player</th>\n",
       "      <th>Current_Age</th>\n",
       "      <th>Starts</th>\n",
       "      <th>Min</th>\n",
       "      <th>Gls</th>\n",
       "      <th>Ast</th>\n",
       "      <th>CrdY</th>\n",
       "      <th>CrdR</th>\n",
       "      <th>SoT</th>\n",
       "      <th>...</th>\n",
       "      <th>POS</th>\n",
       "      <th>grade_value</th>\n",
       "      <th>POS1</th>\n",
       "      <th>POS2</th>\n",
       "      <th>COUNTRY</th>\n",
       "      <th>Current_Club</th>\n",
       "      <th>League</th>\n",
       "      <th>League_num</th>\n",
       "      <th>Club_num</th>\n",
       "      <th>Market_val</th>\n",
       "    </tr>\n",
       "  </thead>\n",
       "  <tbody>\n",
       "    <tr>\n",
       "      <th>0</th>\n",
       "      <td>1</td>\n",
       "      <td>Aaron Connolly</td>\n",
       "      <td>21</td>\n",
       "      <td>8.33</td>\n",
       "      <td>747.33</td>\n",
       "      <td>2.00</td>\n",
       "      <td>0.67</td>\n",
       "      <td>0.33</td>\n",
       "      <td>0.00</td>\n",
       "      <td>8.67</td>\n",
       "      <td>...</td>\n",
       "      <td>3</td>\n",
       "      <td>0.37</td>\n",
       "      <td>F</td>\n",
       "      <td>CF</td>\n",
       "      <td>Ireland</td>\n",
       "      <td>Brighton</td>\n",
       "      <td>Premier League</td>\n",
       "      <td>1</td>\n",
       "      <td>20</td>\n",
       "      <td>4500000</td>\n",
       "    </tr>\n",
       "    <tr>\n",
       "      <th>1</th>\n",
       "      <td>2</td>\n",
       "      <td>Aaron Cresswell</td>\n",
       "      <td>31</td>\n",
       "      <td>30.33</td>\n",
       "      <td>2691.33</td>\n",
       "      <td>1.00</td>\n",
       "      <td>3.33</td>\n",
       "      <td>3.67</td>\n",
       "      <td>0.00</td>\n",
       "      <td>3.33</td>\n",
       "      <td>...</td>\n",
       "      <td>1</td>\n",
       "      <td>0.49</td>\n",
       "      <td>D</td>\n",
       "      <td>LB</td>\n",
       "      <td>England</td>\n",
       "      <td>West Ham</td>\n",
       "      <td>Premier League</td>\n",
       "      <td>1</td>\n",
       "      <td>96</td>\n",
       "      <td>8000000</td>\n",
       "    </tr>\n",
       "    <tr>\n",
       "      <th>2</th>\n",
       "      <td>3</td>\n",
       "      <td>Aaron Hickey</td>\n",
       "      <td>19</td>\n",
       "      <td>10.00</td>\n",
       "      <td>782.00</td>\n",
       "      <td>0.00</td>\n",
       "      <td>0.00</td>\n",
       "      <td>3.00</td>\n",
       "      <td>1.00</td>\n",
       "      <td>1.00</td>\n",
       "      <td>...</td>\n",
       "      <td>1</td>\n",
       "      <td>0.38</td>\n",
       "      <td>D</td>\n",
       "      <td>LB</td>\n",
       "      <td>Scotland</td>\n",
       "      <td>Bologna</td>\n",
       "      <td>Series A</td>\n",
       "      <td>5</td>\n",
       "      <td>15</td>\n",
       "      <td>5000000</td>\n",
       "    </tr>\n",
       "    <tr>\n",
       "      <th>3</th>\n",
       "      <td>4</td>\n",
       "      <td>Aaron Ramsey</td>\n",
       "      <td>30</td>\n",
       "      <td>19.00</td>\n",
       "      <td>1797.50</td>\n",
       "      <td>5.00</td>\n",
       "      <td>4.00</td>\n",
       "      <td>1.50</td>\n",
       "      <td>0.00</td>\n",
       "      <td>15.50</td>\n",
       "      <td>...</td>\n",
       "      <td>2</td>\n",
       "      <td>3.09</td>\n",
       "      <td>M</td>\n",
       "      <td>CM</td>\n",
       "      <td>Wales</td>\n",
       "      <td>Juventus</td>\n",
       "      <td>Series A</td>\n",
       "      <td>5</td>\n",
       "      <td>43</td>\n",
       "      <td>25000000</td>\n",
       "    </tr>\n",
       "    <tr>\n",
       "      <th>4</th>\n",
       "      <td>5</td>\n",
       "      <td>Aaron Wan-Bissaka</td>\n",
       "      <td>23</td>\n",
       "      <td>45.67</td>\n",
       "      <td>4083.00</td>\n",
       "      <td>0.67</td>\n",
       "      <td>4.33</td>\n",
       "      <td>6.00</td>\n",
       "      <td>0.33</td>\n",
       "      <td>2.33</td>\n",
       "      <td>...</td>\n",
       "      <td>1</td>\n",
       "      <td>1.51</td>\n",
       "      <td>D</td>\n",
       "      <td>RB</td>\n",
       "      <td>England</td>\n",
       "      <td>Manchester United</td>\n",
       "      <td>Premier League</td>\n",
       "      <td>1</td>\n",
       "      <td>58</td>\n",
       "      <td>40000000</td>\n",
       "    </tr>\n",
       "  </tbody>\n",
       "</table>\n",
       "<p>5 rows × 32 columns</p>\n",
       "</div>"
      ],
      "text/plain": [
       "   Player_index             Player  Current_Age  Starts      Min   Gls   Ast  \\\n",
       "0             1     Aaron Connolly           21    8.33   747.33  2.00  0.67   \n",
       "1             2    Aaron Cresswell           31   30.33  2691.33  1.00  3.33   \n",
       "2             3       Aaron Hickey           19   10.00   782.00  0.00  0.00   \n",
       "3             4       Aaron Ramsey           30   19.00  1797.50  5.00  4.00   \n",
       "4             5  Aaron Wan-Bissaka           23   45.67  4083.00  0.67  4.33   \n",
       "\n",
       "   CrdY  CrdR    SoT  ...  POS  grade_value  POS1  POS2   COUNTRY  \\\n",
       "0  0.33  0.00   8.67  ...    3         0.37     F    CF   Ireland   \n",
       "1  3.67  0.00   3.33  ...    1         0.49     D    LB   England   \n",
       "2  3.00  1.00   1.00  ...    1         0.38     D    LB  Scotland   \n",
       "3  1.50  0.00  15.50  ...    2         3.09     M    CM     Wales   \n",
       "4  6.00  0.33   2.33  ...    1         1.51     D    RB   England   \n",
       "\n",
       "        Current_Club          League  League_num  Club_num  Market_val  \n",
       "0           Brighton  Premier League           1        20     4500000  \n",
       "1           West Ham  Premier League           1        96     8000000  \n",
       "2            Bologna        Series A           5        15     5000000  \n",
       "3           Juventus        Series A           5        43    25000000  \n",
       "4  Manchester United  Premier League           1        58    40000000  \n",
       "\n",
       "[5 rows x 32 columns]"
      ]
     },
     "execution_count": 3,
     "metadata": {},
     "output_type": "execute_result"
    }
   ],
   "source": [
    "df.head()"
   ]
  },
  {
   "cell_type": "code",
   "execution_count": 3,
   "id": "3390a171-29aa-4196-ab2f-596484d1843f",
   "metadata": {},
   "outputs": [
    {
     "name": "stdout",
     "output_type": "stream",
     "text": [
      "Collecting openpyxl\n",
      "  Downloading openpyxl-3.1.2-py2.py3-none-any.whl.metadata (2.5 kB)\n",
      "Collecting et-xmlfile (from openpyxl)\n",
      "  Downloading et_xmlfile-1.1.0-py3-none-any.whl.metadata (1.8 kB)\n",
      "Downloading openpyxl-3.1.2-py2.py3-none-any.whl (249 kB)\n",
      "\u001b[2K   \u001b[90m━━━━━━━━━━━━━━━━━━━━━━━━━━━━━━━━━━━━━━━━\u001b[0m \u001b[32m250.0/250.0 kB\u001b[0m \u001b[31m2.2 MB/s\u001b[0m eta \u001b[36m0:00:00\u001b[0ma \u001b[36m0:00:01\u001b[0m\n",
      "\u001b[?25hDownloading et_xmlfile-1.1.0-py3-none-any.whl (4.7 kB)\n",
      "Installing collected packages: et-xmlfile, openpyxl\n",
      "Successfully installed et-xmlfile-1.1.0 openpyxl-3.1.2\n",
      "Note: you may need to restart the kernel to use updated packages.\n"
     ]
    }
   ],
   "source": [
    "pip install openpyxl"
   ]
  },
  {
   "cell_type": "code",
   "execution_count": 4,
   "id": "926c9160",
   "metadata": {},
   "outputs": [],
   "source": [
    "features = ['Current_Age', 'Starts', 'Min', 'Gls', 'Ast', 'CrdY', 'CrdR', 'SoT', 'G_Sh', 'Pass_Att', 'Cmp_per', 'TklW', 'Blocks', 'Int', 'Clr', 'Dribble_Att', 'Dribble_Succ_per', 'Carries', 'Targ', 'Rec_per', 'POS', 'grade_value', 'League_num', 'Club_num']  # List of column names for features\n",
    "target = 'Market_val'  # Column name for the target value\n",
    "\n",
    "dataX = df[features]  # DataFrame containing the selected features\n",
    "dataY = df[target]  # Series containing the target value\n"
   ]
  },
  {
   "cell_type": "code",
   "execution_count": 5,
   "id": "7bfe57c2",
   "metadata": {},
   "outputs": [],
   "source": [
    "dataY = np.ravel(dataY)"
   ]
  },
  {
   "cell_type": "code",
   "execution_count": 6,
   "id": "5b6bc37d",
   "metadata": {},
   "outputs": [],
   "source": [
    "rf2 = RandomForestRegressor(max_features=None,n_estimators=200,max_depth=None,\n",
    "                           min_samples_split=2,min_samples_leaf=1,\n",
    "                           criterion=\"squared_error\",random_state=2)"
   ]
  },
  {
   "cell_type": "code",
   "execution_count": 7,
   "id": "f90b8a0e",
   "metadata": {},
   "outputs": [
    {
     "name": "stdout",
     "output_type": "stream",
     "text": [
      "<class 'sklearn.ensemble._forest.RandomForestRegressor'>\n"
     ]
    }
   ],
   "source": [
    "rf2.fit(dataX,dataY)\n",
    "print(type(rf2))"
   ]
  },
  {
   "cell_type": "code",
   "execution_count": 9,
   "id": "d23ec2bb",
   "metadata": {},
   "outputs": [
    {
     "ename": "FileNotFoundError",
     "evalue": "[Errno 2] No such file or directory: '/Users/ervinballa/Desktop/ML_Grad/footy/RF_Model_2.pkl'",
     "output_type": "error",
     "traceback": [
      "\u001b[0;31m---------------------------------------------------------------------------\u001b[0m",
      "\u001b[0;31mFileNotFoundError\u001b[0m                         Traceback (most recent call last)",
      "Cell \u001b[0;32mIn[9], line 1\u001b[0m\n\u001b[0;32m----> 1\u001b[0m \u001b[43mjoblib\u001b[49m\u001b[38;5;241;43m.\u001b[39;49m\u001b[43mdump\u001b[49m\u001b[43m(\u001b[49m\u001b[43mrf2\u001b[49m\u001b[43m,\u001b[49m\u001b[43m \u001b[49m\u001b[38;5;124;43m\"\u001b[39;49m\u001b[38;5;124;43m/Users/ervinballa/Desktop/ML_Grad/footy/RF_Model_2.pkl\u001b[39;49m\u001b[38;5;124;43m\"\u001b[39;49m\u001b[43m)\u001b[49m\n",
      "File \u001b[0;32m/Library/Frameworks/Python.framework/Versions/3.11/lib/python3.11/site-packages/joblib/numpy_pickle.py:552\u001b[0m, in \u001b[0;36mdump\u001b[0;34m(value, filename, compress, protocol, cache_size)\u001b[0m\n\u001b[1;32m    550\u001b[0m         NumpyPickler(f, protocol\u001b[38;5;241m=\u001b[39mprotocol)\u001b[38;5;241m.\u001b[39mdump(value)\n\u001b[1;32m    551\u001b[0m \u001b[38;5;28;01melif\u001b[39;00m is_filename:\n\u001b[0;32m--> 552\u001b[0m     \u001b[38;5;28;01mwith\u001b[39;00m \u001b[38;5;28mopen\u001b[39m(filename, \u001b[38;5;124m'\u001b[39m\u001b[38;5;124mwb\u001b[39m\u001b[38;5;124m'\u001b[39m) \u001b[38;5;28;01mas\u001b[39;00m f:\n\u001b[1;32m    553\u001b[0m         NumpyPickler(f, protocol\u001b[38;5;241m=\u001b[39mprotocol)\u001b[38;5;241m.\u001b[39mdump(value)\n\u001b[1;32m    554\u001b[0m \u001b[38;5;28;01melse\u001b[39;00m:\n",
      "\u001b[0;31mFileNotFoundError\u001b[0m: [Errno 2] No such file or directory: '/Users/ervinballa/Desktop/ML_Grad/footy/RF_Model_2.pkl'"
     ]
    }
   ],
   "source": [
    "joblib.dump(rf2, \"/Users/ervinballa/Desktop/ML_Grad/footy/RF_Model_2.pkl\")"
   ]
  },
  {
   "cell_type": "code",
   "execution_count": 11,
   "id": "a79ab47b-1966-4aec-92fb-104fa4db39ab",
   "metadata": {},
   "outputs": [],
   "source": [
    "with open('model55.pkl', 'wb') as f:\n",
    "    pickle.dump(rf2, f)"
   ]
  },
  {
   "cell_type": "code",
   "execution_count": 8,
   "id": "f8e649a3-031b-471c-8c0c-4c09c65f861d",
   "metadata": {},
   "outputs": [
    {
     "name": "stdout",
     "output_type": "stream",
     "text": [
      "<class 'list'>\n"
     ]
    }
   ],
   "source": [
    "oki = joblib.dump(rf2, \"/Users/ervinballa/Desktop/UNYT/Year 3/Senior Project/ML_Grad/footy/RF_Model_24.pkl\")\n",
    "print(type(oki))"
   ]
  },
  {
   "cell_type": "code",
   "execution_count": 9,
   "id": "51295fc6",
   "metadata": {},
   "outputs": [],
   "source": [
    "mod_score = cross_val_score(rf2,dataX,dataY,scoring='r2',cv=5).mean()\n",
    "r2 = rf2.score(dataX, dataY)"
   ]
  },
  {
   "cell_type": "code",
   "execution_count": 10,
   "id": "6ff8abf3",
   "metadata": {},
   "outputs": [
    {
     "data": {
      "text/plain": [
       "0.7053286436560876"
      ]
     },
     "execution_count": 10,
     "metadata": {},
     "output_type": "execute_result"
    }
   ],
   "source": [
    "mod_score"
   ]
  },
  {
   "cell_type": "code",
   "execution_count": 11,
   "id": "8738cb5e",
   "metadata": {},
   "outputs": [
    {
     "data": {
      "text/plain": [
       "0.9593735543139753"
      ]
     },
     "execution_count": 11,
     "metadata": {},
     "output_type": "execute_result"
    }
   ],
   "source": [
    "r2"
   ]
  },
  {
   "cell_type": "code",
   "execution_count": 7,
   "id": "290d6354",
   "metadata": {},
   "outputs": [],
   "source": [
    "# predict the response variable for dataset\n",
    "pred = rf2.predict(dataX)\n",
    "#pred = pd.DataFrame(pred)\n",
    "#pred.to_excel(\"/Users/ervinballa/Desktop/ML_Grad/footy/Prediction2.xlsx\",index=False)"
   ]
  },
  {
   "cell_type": "code",
   "execution_count": 8,
   "id": "08bc3c86",
   "metadata": {},
   "outputs": [
    {
     "name": "stdout",
     "output_type": "stream",
     "text": [
      "11376426538012.357\n",
      "3372895.8682432454\n"
     ]
    }
   ],
   "source": [
    "mse = mean_squared_error(dataY, pred)\n",
    "rmse = mse**.5\n",
    "print(mse)\n",
    "print(rmse)"
   ]
  },
  {
   "cell_type": "code",
   "execution_count": 13,
   "id": "18b9aaf8",
   "metadata": {},
   "outputs": [
    {
     "name": "stdout",
     "output_type": "stream",
     "text": [
      "Variable: Targ                 Importance: 0.32\n",
      "Variable: Current_Age          Importance: 0.15\n",
      "Variable: grade_value          Importance: 0.1\n",
      "Variable: SoT                  Importance: 0.08\n",
      "Variable: Gls                  Importance: 0.06\n",
      "Variable: Dribble_Att          Importance: 0.05\n",
      "Variable: Ast                  Importance: 0.04\n",
      "Variable: G_Sh                 Importance: 0.02\n",
      "Variable: TklW                 Importance: 0.02\n",
      "Variable: Blocks               Importance: 0.02\n",
      "Variable: League_num           Importance: 0.02\n",
      "Variable: Starts               Importance: 0.01\n",
      "Variable: Min                  Importance: 0.01\n",
      "Variable: CrdY                 Importance: 0.01\n",
      "Variable: Pass_Att             Importance: 0.01\n",
      "Variable: Cmp_per              Importance: 0.01\n",
      "Variable: Int                  Importance: 0.01\n",
      "Variable: Clr                  Importance: 0.01\n",
      "Variable: Dribble_Succ_per     Importance: 0.01\n",
      "Variable: Carries              Importance: 0.01\n",
      "Variable: Rec_per              Importance: 0.01\n",
      "Variable: Club_num             Importance: 0.01\n",
      "Variable: CrdR                 Importance: 0.0\n",
      "Variable: POS                  Importance: 0.0\n"
     ]
    }
   ],
   "source": [
    "# Get numerical feature importances\n",
    "importances = list(rf2.feature_importances_)\n",
    "# List of tuples with variable and importance\n",
    "feature_importances = [(feature, round(importance, 2)) for feature, importance in zip(features, importances)]\n",
    "# Sort the feature importances by most important first\n",
    "feature_importances = sorted(feature_importances, key = lambda x: x[1], reverse = True)\n",
    "# Print out the feature and importances \n",
    "[print('Variable: {:20} Importance: {}'.format(*pair)) for pair in feature_importances];"
   ]
  },
  {
   "cell_type": "code",
   "execution_count": 14,
   "id": "9e6e2be8",
   "metadata": {},
   "outputs": [],
   "source": [
    "result = permutation_importance(rf2, dataX, dataY, n_repeats=10, random_state=42)\n",
    "\n",
    "feature_importances_2 = result.importances_mean"
   ]
  },
  {
   "cell_type": "code",
   "execution_count": 15,
   "id": "18d928ef",
   "metadata": {},
   "outputs": [
    {
     "data": {
      "text/plain": [
       "array([0.37039758, 0.01028539, 0.01554761, 0.05160855, 0.0318702 ,\n",
       "       0.00739221, 0.00283823, 0.10230762, 0.01049134, 0.00618648,\n",
       "       0.00880896, 0.01432003, 0.01486952, 0.00840275, 0.01063085,\n",
       "       0.03766876, 0.007942  , 0.01503495, 0.46312063, 0.00595036,\n",
       "       0.00064687, 0.22155634, 0.03100232, 0.01129248])"
      ]
     },
     "execution_count": 15,
     "metadata": {},
     "output_type": "execute_result"
    }
   ],
   "source": [
    "feature_importances_2"
   ]
  },
  {
   "cell_type": "code",
   "execution_count": 17,
   "id": "14a77067",
   "metadata": {},
   "outputs": [
    {
     "name": "stderr",
     "output_type": "stream",
     "text": [
      "/Users/ervinballa/Desktop/ML_Grad/footy/lib/python3.11/site-packages/sklearn/base.py:439: UserWarning: X does not have valid feature names, but RandomForestRegressor was fitted with feature names\n",
      "  warnings.warn(\n"
     ]
    }
   ],
   "source": [
    "prediction_example = [[25, 57, 4117, 28, 11, 8, 0, 63, 0.21, 947, 74.55, 10, 40, 12, 14, 89, 44.95, 687, 1452, 58.5, 3, 4.75, 5, 42]]\n",
    "example_result = rf2.predict(prediction_example)"
   ]
  },
  {
   "cell_type": "code",
   "execution_count": 18,
   "id": "b2d27b0b",
   "metadata": {},
   "outputs": [
    {
     "data": {
      "text/plain": [
       "array([81170000.])"
      ]
     },
     "execution_count": 18,
     "metadata": {},
     "output_type": "execute_result"
    }
   ],
   "source": [
    "example_result"
   ]
  },
  {
   "cell_type": "code",
   "execution_count": 9,
   "id": "5b258f7e",
   "metadata": {},
   "outputs": [
    {
     "name": "stdout",
     "output_type": "stream",
     "text": [
      "0.37039758\n",
      "0.01028539\n",
      "0.01554761\n",
      "0.05160855\n",
      "0.0318702\n",
      "0.00739221\n",
      "0.00283823\n",
      "0.10230762\n",
      "0.01049134\n",
      "0.00618648\n",
      "0.00880896\n",
      "0.01432003\n",
      "0.01486952\n",
      "0.00840275\n",
      "0.01063085\n",
      "0.03766876\n",
      "0.007942\n",
      "0.01503495\n",
      "0.46312063\n",
      "0.00595036\n",
      "0.00064687\n",
      "0.22155634\n",
      "0.03100232\n",
      "0.01129248\n"
     ]
    }
   ],
   "source": [
    "feature_importances_2 = ([0.37039758, 0.01028539, 0.01554761, 0.05160855, 0.0318702 ,\n",
    "       0.00739221, 0.00283823, 0.10230762, 0.01049134, 0.00618648,\n",
    "       0.00880896, 0.01432003, 0.01486952, 0.00840275, 0.01063085,\n",
    "       0.03766876, 0.007942  , 0.01503495, 0.46312063, 0.00595036,\n",
    "       0.00064687, 0.22155634, 0.03100232, 0.01129248])\n",
    "for i in feature_importances_2:\n",
    "    print(i)"
   ]
  },
  {
   "cell_type": "code",
   "execution_count": null,
   "id": "559a95b6",
   "metadata": {},
   "outputs": [],
   "source": []
  }
 ],
 "metadata": {
  "kernelspec": {
   "display_name": "Python 3 (ipykernel)",
   "language": "python",
   "name": "python3"
  },
  "language_info": {
   "codemirror_mode": {
    "name": "ipython",
    "version": 3
   },
   "file_extension": ".py",
   "mimetype": "text/x-python",
   "name": "python",
   "nbconvert_exporter": "python",
   "pygments_lexer": "ipython3",
   "version": "3.11.0"
  }
 },
 "nbformat": 4,
 "nbformat_minor": 5
}
