{
 "cells": [
  {
   "cell_type": "code",
   "execution_count": 1,
   "id": "aefbd692",
   "metadata": {},
   "outputs": [],
   "source": [
    "#from sklearn.model_selection import cross_val_score\n",
    "import matplotlib.pyplot as plt\n",
    "from sklearn.ensemble import RandomForestRegressor\n",
    "#from sklearn.inspection import permutation_importance\n",
    "import pandas as pd\n",
    "import numpy as np\n",
    "import joblib\n",
    "import pickle\n",
    "from six import StringIO\n",
    "from IPython.display import Image\n",
    "from sklearn.tree import export_graphviz\n",
    "import pydotplus\n",
    "import os"
   ]
  },
  {
   "cell_type": "code",
   "execution_count": 9,
   "id": "630e80e9",
   "metadata": {},
   "outputs": [],
   "source": [
    " from sklearn.metrics import mean_squared_error"
   ]
  },
  {
   "cell_type": "code",
   "execution_count": 2,
   "id": "2de5af67",
   "metadata": {},
   "outputs": [],
   "source": [
    "filepath = 'Updated2.xlsx'\n",
    "df = pd.read_excel(filepath)"
   ]
  },
  {
   "cell_type": "code",
   "execution_count": 5,
   "id": "a1198061",
   "metadata": {},
   "outputs": [
    {
     "data": {
      "text/html": [
       "<div>\n",
       "<style scoped>\n",
       "    .dataframe tbody tr th:only-of-type {\n",
       "        vertical-align: middle;\n",
       "    }\n",
       "\n",
       "    .dataframe tbody tr th {\n",
       "        vertical-align: top;\n",
       "    }\n",
       "\n",
       "    .dataframe thead th {\n",
       "        text-align: right;\n",
       "    }\n",
       "</style>\n",
       "<table border=\"1\" class=\"dataframe\">\n",
       "  <thead>\n",
       "    <tr style=\"text-align: right;\">\n",
       "      <th></th>\n",
       "      <th>Player_index</th>\n",
       "      <th>Player</th>\n",
       "      <th>Current_Age</th>\n",
       "      <th>Starts</th>\n",
       "      <th>Min</th>\n",
       "      <th>Gls</th>\n",
       "      <th>Ast</th>\n",
       "      <th>CrdY</th>\n",
       "      <th>CrdR</th>\n",
       "      <th>SoT</th>\n",
       "      <th>...</th>\n",
       "      <th>POS</th>\n",
       "      <th>grade_value</th>\n",
       "      <th>POS1</th>\n",
       "      <th>POS2</th>\n",
       "      <th>COUNTRY</th>\n",
       "      <th>Current_Club</th>\n",
       "      <th>League</th>\n",
       "      <th>League_num</th>\n",
       "      <th>Club_num</th>\n",
       "      <th>Market_val</th>\n",
       "    </tr>\n",
       "  </thead>\n",
       "  <tbody>\n",
       "    <tr>\n",
       "      <th>0</th>\n",
       "      <td>1</td>\n",
       "      <td>Aaron Connolly</td>\n",
       "      <td>21</td>\n",
       "      <td>8.33</td>\n",
       "      <td>747.33</td>\n",
       "      <td>2.00</td>\n",
       "      <td>0.67</td>\n",
       "      <td>0.33</td>\n",
       "      <td>0.00</td>\n",
       "      <td>8.67</td>\n",
       "      <td>...</td>\n",
       "      <td>3</td>\n",
       "      <td>0.37</td>\n",
       "      <td>F</td>\n",
       "      <td>CF</td>\n",
       "      <td>Ireland</td>\n",
       "      <td>Brighton</td>\n",
       "      <td>Premier League</td>\n",
       "      <td>1</td>\n",
       "      <td>20</td>\n",
       "      <td>4500000</td>\n",
       "    </tr>\n",
       "    <tr>\n",
       "      <th>1</th>\n",
       "      <td>2</td>\n",
       "      <td>Aaron Cresswell</td>\n",
       "      <td>31</td>\n",
       "      <td>30.33</td>\n",
       "      <td>2691.33</td>\n",
       "      <td>1.00</td>\n",
       "      <td>3.33</td>\n",
       "      <td>3.67</td>\n",
       "      <td>0.00</td>\n",
       "      <td>3.33</td>\n",
       "      <td>...</td>\n",
       "      <td>1</td>\n",
       "      <td>0.49</td>\n",
       "      <td>D</td>\n",
       "      <td>LB</td>\n",
       "      <td>England</td>\n",
       "      <td>West Ham</td>\n",
       "      <td>Premier League</td>\n",
       "      <td>1</td>\n",
       "      <td>96</td>\n",
       "      <td>8000000</td>\n",
       "    </tr>\n",
       "    <tr>\n",
       "      <th>2</th>\n",
       "      <td>3</td>\n",
       "      <td>Aaron Hickey</td>\n",
       "      <td>19</td>\n",
       "      <td>10.00</td>\n",
       "      <td>782.00</td>\n",
       "      <td>0.00</td>\n",
       "      <td>0.00</td>\n",
       "      <td>3.00</td>\n",
       "      <td>1.00</td>\n",
       "      <td>1.00</td>\n",
       "      <td>...</td>\n",
       "      <td>1</td>\n",
       "      <td>0.38</td>\n",
       "      <td>D</td>\n",
       "      <td>LB</td>\n",
       "      <td>Scotland</td>\n",
       "      <td>Bologna</td>\n",
       "      <td>Series A</td>\n",
       "      <td>5</td>\n",
       "      <td>15</td>\n",
       "      <td>5000000</td>\n",
       "    </tr>\n",
       "    <tr>\n",
       "      <th>3</th>\n",
       "      <td>4</td>\n",
       "      <td>Aaron Ramsey</td>\n",
       "      <td>30</td>\n",
       "      <td>19.00</td>\n",
       "      <td>1797.50</td>\n",
       "      <td>5.00</td>\n",
       "      <td>4.00</td>\n",
       "      <td>1.50</td>\n",
       "      <td>0.00</td>\n",
       "      <td>15.50</td>\n",
       "      <td>...</td>\n",
       "      <td>2</td>\n",
       "      <td>3.09</td>\n",
       "      <td>M</td>\n",
       "      <td>CM</td>\n",
       "      <td>Wales</td>\n",
       "      <td>Juventus</td>\n",
       "      <td>Series A</td>\n",
       "      <td>5</td>\n",
       "      <td>43</td>\n",
       "      <td>25000000</td>\n",
       "    </tr>\n",
       "    <tr>\n",
       "      <th>4</th>\n",
       "      <td>5</td>\n",
       "      <td>Aaron Wan-Bissaka</td>\n",
       "      <td>23</td>\n",
       "      <td>45.67</td>\n",
       "      <td>4083.00</td>\n",
       "      <td>0.67</td>\n",
       "      <td>4.33</td>\n",
       "      <td>6.00</td>\n",
       "      <td>0.33</td>\n",
       "      <td>2.33</td>\n",
       "      <td>...</td>\n",
       "      <td>1</td>\n",
       "      <td>1.51</td>\n",
       "      <td>D</td>\n",
       "      <td>RB</td>\n",
       "      <td>England</td>\n",
       "      <td>Manchester United</td>\n",
       "      <td>Premier League</td>\n",
       "      <td>1</td>\n",
       "      <td>58</td>\n",
       "      <td>40000000</td>\n",
       "    </tr>\n",
       "  </tbody>\n",
       "</table>\n",
       "<p>5 rows × 32 columns</p>\n",
       "</div>"
      ],
      "text/plain": [
       "   Player_index             Player  Current_Age  Starts      Min   Gls   Ast  \\\n",
       "0             1     Aaron Connolly           21    8.33   747.33  2.00  0.67   \n",
       "1             2    Aaron Cresswell           31   30.33  2691.33  1.00  3.33   \n",
       "2             3       Aaron Hickey           19   10.00   782.00  0.00  0.00   \n",
       "3             4       Aaron Ramsey           30   19.00  1797.50  5.00  4.00   \n",
       "4             5  Aaron Wan-Bissaka           23   45.67  4083.00  0.67  4.33   \n",
       "\n",
       "   CrdY  CrdR    SoT  ...  POS  grade_value  POS1  POS2   COUNTRY  \\\n",
       "0  0.33  0.00   8.67  ...    3         0.37     F    CF   Ireland   \n",
       "1  3.67  0.00   3.33  ...    1         0.49     D    LB   England   \n",
       "2  3.00  1.00   1.00  ...    1         0.38     D    LB  Scotland   \n",
       "3  1.50  0.00  15.50  ...    2         3.09     M    CM     Wales   \n",
       "4  6.00  0.33   2.33  ...    1         1.51     D    RB   England   \n",
       "\n",
       "        Current_Club          League  League_num  Club_num  Market_val  \n",
       "0           Brighton  Premier League           1        20     4500000  \n",
       "1           West Ham  Premier League           1        96     8000000  \n",
       "2            Bologna        Series A           5        15     5000000  \n",
       "3           Juventus        Series A           5        43    25000000  \n",
       "4  Manchester United  Premier League           1        58    40000000  \n",
       "\n",
       "[5 rows x 32 columns]"
      ]
     },
     "execution_count": 5,
     "metadata": {},
     "output_type": "execute_result"
    }
   ],
   "source": [
    "df.head()"
   ]
  },
  {
   "cell_type": "code",
   "execution_count": 3,
   "id": "911eb75a",
   "metadata": {},
   "outputs": [],
   "source": [
    "\n",
    "features = ['Current_Age', 'Starts', 'Min', 'Gls', 'Ast', 'POS','grade_value', 'League_num', 'Club_num']  # List of column names for features\n",
    "target = 'Market_val'  # Column name for the target value\n",
    "\n",
    "dataX = df[features]  # DataFrame containing the selected features\n",
    "dataY = df[target]  # Series containing the target value\n"
   ]
  },
  {
   "cell_type": "code",
   "execution_count": 4,
   "id": "dbb897b0",
   "metadata": {},
   "outputs": [],
   "source": [
    "dataY = np.ravel(dataY)"
   ]
  },
  {
   "cell_type": "code",
   "execution_count": 5,
   "id": "166a5db2",
   "metadata": {},
   "outputs": [],
   "source": [
    "rf = RandomForestRegressor(max_features=None,n_estimators=200,max_depth=None,\n",
    "                           min_samples_split=2,min_samples_leaf=1,\n",
    "                           criterion=\"squared_error\",random_state=2)"
   ]
  },
  {
   "cell_type": "code",
   "execution_count": 6,
   "id": "fd5ac09d",
   "metadata": {},
   "outputs": [
    {
     "data": {
      "text/html": [
       "<style>#sk-container-id-1 {color: black;background-color: white;}#sk-container-id-1 pre{padding: 0;}#sk-container-id-1 div.sk-toggleable {background-color: white;}#sk-container-id-1 label.sk-toggleable__label {cursor: pointer;display: block;width: 100%;margin-bottom: 0;padding: 0.3em;box-sizing: border-box;text-align: center;}#sk-container-id-1 label.sk-toggleable__label-arrow:before {content: \"▸\";float: left;margin-right: 0.25em;color: #696969;}#sk-container-id-1 label.sk-toggleable__label-arrow:hover:before {color: black;}#sk-container-id-1 div.sk-estimator:hover label.sk-toggleable__label-arrow:before {color: black;}#sk-container-id-1 div.sk-toggleable__content {max-height: 0;max-width: 0;overflow: hidden;text-align: left;background-color: #f0f8ff;}#sk-container-id-1 div.sk-toggleable__content pre {margin: 0.2em;color: black;border-radius: 0.25em;background-color: #f0f8ff;}#sk-container-id-1 input.sk-toggleable__control:checked~div.sk-toggleable__content {max-height: 200px;max-width: 100%;overflow: auto;}#sk-container-id-1 input.sk-toggleable__control:checked~label.sk-toggleable__label-arrow:before {content: \"▾\";}#sk-container-id-1 div.sk-estimator input.sk-toggleable__control:checked~label.sk-toggleable__label {background-color: #d4ebff;}#sk-container-id-1 div.sk-label input.sk-toggleable__control:checked~label.sk-toggleable__label {background-color: #d4ebff;}#sk-container-id-1 input.sk-hidden--visually {border: 0;clip: rect(1px 1px 1px 1px);clip: rect(1px, 1px, 1px, 1px);height: 1px;margin: -1px;overflow: hidden;padding: 0;position: absolute;width: 1px;}#sk-container-id-1 div.sk-estimator {font-family: monospace;background-color: #f0f8ff;border: 1px dotted black;border-radius: 0.25em;box-sizing: border-box;margin-bottom: 0.5em;}#sk-container-id-1 div.sk-estimator:hover {background-color: #d4ebff;}#sk-container-id-1 div.sk-parallel-item::after {content: \"\";width: 100%;border-bottom: 1px solid gray;flex-grow: 1;}#sk-container-id-1 div.sk-label:hover label.sk-toggleable__label {background-color: #d4ebff;}#sk-container-id-1 div.sk-serial::before {content: \"\";position: absolute;border-left: 1px solid gray;box-sizing: border-box;top: 0;bottom: 0;left: 50%;z-index: 0;}#sk-container-id-1 div.sk-serial {display: flex;flex-direction: column;align-items: center;background-color: white;padding-right: 0.2em;padding-left: 0.2em;position: relative;}#sk-container-id-1 div.sk-item {position: relative;z-index: 1;}#sk-container-id-1 div.sk-parallel {display: flex;align-items: stretch;justify-content: center;background-color: white;position: relative;}#sk-container-id-1 div.sk-item::before, #sk-container-id-1 div.sk-parallel-item::before {content: \"\";position: absolute;border-left: 1px solid gray;box-sizing: border-box;top: 0;bottom: 0;left: 50%;z-index: -1;}#sk-container-id-1 div.sk-parallel-item {display: flex;flex-direction: column;z-index: 1;position: relative;background-color: white;}#sk-container-id-1 div.sk-parallel-item:first-child::after {align-self: flex-end;width: 50%;}#sk-container-id-1 div.sk-parallel-item:last-child::after {align-self: flex-start;width: 50%;}#sk-container-id-1 div.sk-parallel-item:only-child::after {width: 0;}#sk-container-id-1 div.sk-dashed-wrapped {border: 1px dashed gray;margin: 0 0.4em 0.5em 0.4em;box-sizing: border-box;padding-bottom: 0.4em;background-color: white;}#sk-container-id-1 div.sk-label label {font-family: monospace;font-weight: bold;display: inline-block;line-height: 1.2em;}#sk-container-id-1 div.sk-label-container {text-align: center;}#sk-container-id-1 div.sk-container {/* jupyter's `normalize.less` sets `[hidden] { display: none; }` but bootstrap.min.css set `[hidden] { display: none !important; }` so we also need the `!important` here to be able to override the default hidden behavior on the sphinx rendered scikit-learn.org. See: https://github.com/scikit-learn/scikit-learn/issues/21755 */display: inline-block !important;position: relative;}#sk-container-id-1 div.sk-text-repr-fallback {display: none;}</style><div id=\"sk-container-id-1\" class=\"sk-top-container\"><div class=\"sk-text-repr-fallback\"><pre>RandomForestRegressor(max_features=None, n_estimators=200, random_state=2)</pre><b>In a Jupyter environment, please rerun this cell to show the HTML representation or trust the notebook. <br />On GitHub, the HTML representation is unable to render, please try loading this page with nbviewer.org.</b></div><div class=\"sk-container\" hidden><div class=\"sk-item\"><div class=\"sk-estimator sk-toggleable\"><input class=\"sk-toggleable__control sk-hidden--visually\" id=\"sk-estimator-id-1\" type=\"checkbox\" checked><label for=\"sk-estimator-id-1\" class=\"sk-toggleable__label sk-toggleable__label-arrow\">RandomForestRegressor</label><div class=\"sk-toggleable__content\"><pre>RandomForestRegressor(max_features=None, n_estimators=200, random_state=2)</pre></div></div></div></div></div>"
      ],
      "text/plain": [
       "RandomForestRegressor(max_features=None, n_estimators=200, random_state=2)"
      ]
     },
     "execution_count": 6,
     "metadata": {},
     "output_type": "execute_result"
    }
   ],
   "source": [
    "rf.fit(dataX,dataY)"
   ]
  },
  {
   "cell_type": "code",
   "execution_count": 8,
   "id": "17e02b08",
   "metadata": {},
   "outputs": [
    {
     "name": "stdout",
     "output_type": "stream",
     "text": [
      "['__abstractmethods__', '__annotations__', '__class__', '__delattr__', '__dict__', '__dir__', '__doc__', '__eq__', '__format__', '__ge__', '__getattribute__', '__getitem__', '__getstate__', '__gt__', '__hash__', '__init__', '__init_subclass__', '__iter__', '__le__', '__len__', '__lt__', '__module__', '__ne__', '__new__', '__reduce__', '__reduce_ex__', '__repr__', '__setattr__', '__setstate__', '__sizeof__', '__str__', '__subclasshook__', '__weakref__', '_abc_impl', '_check_feature_names', '_check_n_features', '_compute_oob_predictions', '_compute_partial_dependence_recursion', '_estimator_type', '_get_oob_predictions', '_get_param_names', '_get_tags', '_make_estimator', '_more_tags', '_parameter_constraints', '_repr_html_', '_repr_html_inner', '_repr_mimebundle_', '_required_parameters', '_set_oob_score_and_attributes', '_validate_X_predict', '_validate_data', '_validate_estimator', '_validate_params', '_validate_y_class_weight', 'apply', 'base_estimator', 'base_estimator_', 'bootstrap', 'ccp_alpha', 'class_weight', 'criterion', 'decision_path', 'estimator', 'estimator_', 'estimator_params', 'estimators_', 'feature_importances_', 'feature_names_in_', 'fit', 'get_params', 'max_depth', 'max_features', 'max_leaf_nodes', 'max_samples', 'min_impurity_decrease', 'min_samples_leaf', 'min_samples_split', 'min_weight_fraction_leaf', 'n_estimators', 'n_features_in_', 'n_jobs', 'n_outputs_', 'oob_score', 'predict', 'random_state', 'score', 'set_params', 'verbose', 'warm_start']\n"
     ]
    }
   ],
   "source": [
    "print(dir(rf))"
   ]
  },
  {
   "cell_type": "code",
   "execution_count": null,
   "id": "818aeaa8",
   "metadata": {},
   "outputs": [],
   "source": [
    "pickle.dump(regressor, open('model.pkl','wb'))"
   ]
  },
  {
   "cell_type": "code",
   "execution_count": 11,
   "id": "b2873363",
   "metadata": {},
   "outputs": [
    {
     "data": {
      "text/plain": [
       "['/Users/ervinballa/Desktop/ML_Grad/footy/RF_Model.pkl']"
      ]
     },
     "execution_count": 11,
     "metadata": {},
     "output_type": "execute_result"
    }
   ],
   "source": [
    "joblib.dump(rf, \"/Users/ervinballa/Desktop/ML_Grad/footy/RF_Model.pkl\")"
   ]
  },
  {
   "cell_type": "code",
   "execution_count": 7,
   "id": "6bd36b98",
   "metadata": {},
   "outputs": [],
   "source": [
    "mod_score = cross_val_score(rf,dataX,dataY,scoring='r2',cv=5).mean()\n",
    "r2 = rf.score(dataX, dataY)"
   ]
  },
  {
   "cell_type": "code",
   "execution_count": 8,
   "id": "4707e3b7",
   "metadata": {},
   "outputs": [
    {
     "data": {
      "text/plain": [
       "0.7126762863279894"
      ]
     },
     "execution_count": 8,
     "metadata": {},
     "output_type": "execute_result"
    }
   ],
   "source": [
    "mod_score"
   ]
  },
  {
   "cell_type": "code",
   "execution_count": 9,
   "id": "5cf0a07a",
   "metadata": {},
   "outputs": [
    {
     "data": {
      "text/plain": [
       "0.9606358361721881"
      ]
     },
     "execution_count": 9,
     "metadata": {},
     "output_type": "execute_result"
    }
   ],
   "source": [
    "r2"
   ]
  },
  {
   "cell_type": "code",
   "execution_count": 7,
   "id": "c07b337e",
   "metadata": {},
   "outputs": [],
   "source": [
    "# predict the response variable for dataset\n",
    "pred = rf.predict(dataX)\n",
    "#pred = pd.DataFrame(pred)\n",
    "#pred.to_excel(\"/Users/ervinballa/Desktop/ML_Grad/footy/Prediction.xlsx\",index=False)"
   ]
  },
  {
   "cell_type": "code",
   "execution_count": 10,
   "id": "0d3e5942",
   "metadata": {},
   "outputs": [
    {
     "name": "stdout",
     "output_type": "stream",
     "text": [
      "11022955871609.402\n",
      "3320083.7145483852\n"
     ]
    }
   ],
   "source": [
    "mse = mean_squared_error(dataY, pred)\n",
    "rmse = mse**.5\n",
    "print(mse)\n",
    "print(rmse)"
   ]
  },
  {
   "cell_type": "code",
   "execution_count": 9,
   "id": "c3274db7",
   "metadata": {},
   "outputs": [
    {
     "name": "stdout",
     "output_type": "stream",
     "text": [
      "Variable: grade_value          Importance: 0.2\n",
      "Variable: Current_Age          Importance: 0.19\n",
      "Variable: Min                  Importance: 0.19\n",
      "Variable: Gls                  Importance: 0.15\n",
      "Variable: Ast                  Importance: 0.14\n",
      "Variable: Starts               Importance: 0.06\n",
      "Variable: League_num           Importance: 0.03\n",
      "Variable: Club_num             Importance: 0.03\n",
      "Variable: POS                  Importance: 0.01\n"
     ]
    }
   ],
   "source": [
    "# Get numerical feature importances\n",
    "importances = list(rf.feature_importances_)\n",
    "# List of tuples with variable and importance\n",
    "feature_importances = [(feature, round(importance, 2)) for feature, importance in zip(features, importances)]\n",
    "# Sort the feature importances by most important first\n",
    "feature_importances = sorted(feature_importances, key = lambda x: x[1], reverse = True)\n",
    "# Print out the feature and importances \n",
    "[print('Variable: {:20} Importance: {}'.format(*pair)) for pair in feature_importances];"
   ]
  },
  {
   "cell_type": "code",
   "execution_count": 13,
   "id": "86a28edd",
   "metadata": {},
   "outputs": [],
   "source": [
    "result = permutation_importance(rf, dataX, dataY, n_repeats=10, random_state=42)\n",
    "\n",
    "feature_importances_2 = result.importances_mean"
   ]
  },
  {
   "cell_type": "code",
   "execution_count": 14,
   "id": "0cd2d14a",
   "metadata": {},
   "outputs": [
    {
     "data": {
      "text/plain": [
       "array([0.44885442, 0.0686952 , 0.29892074, 0.1980639 , 0.11255406,\n",
       "       0.00564084, 0.39484632, 0.03240392, 0.02386346])"
      ]
     },
     "execution_count": 14,
     "metadata": {},
     "output_type": "execute_result"
    }
   ],
   "source": [
    "feature_importances_2"
   ]
  },
  {
   "cell_type": "code",
   "execution_count": 1,
   "id": "f58d3fe4",
   "metadata": {},
   "outputs": [
    {
     "name": "stdout",
     "output_type": "stream",
     "text": [
      "0.44885442\n",
      "0.0686952\n",
      "0.29892074\n",
      "0.1980639\n",
      "0.11255406\n",
      "0.00564084\n",
      "0.39484632\n",
      "0.03240392\n",
      "0.02386346\n"
     ]
    }
   ],
   "source": [
    "feature_importances_2 = ([0.44885442, 0.0686952 , 0.29892074, 0.1980639 , 0.11255406,\n",
    "       0.00564084, 0.39484632, 0.03240392, 0.02386346])\n",
    "for i in feature_importances_2:\n",
    "    print(i)"
   ]
  },
  {
   "cell_type": "code",
   "execution_count": 7,
   "id": "c3ad982f",
   "metadata": {},
   "outputs": [
    {
     "data": {
      "text/plain": [
       "True"
      ]
     },
     "execution_count": 7,
     "metadata": {},
     "output_type": "execute_result"
    }
   ],
   "source": [
    "dot_data = StringIO()\n",
    "export_graphviz(rf.estimators_[0],out_file=dot_data,feature_names=features)\n",
    "graph = pydotplus.graph_from_dot_data(dot_data.getvalue())\n",
    "graph.write_pdf('/Users/ervinballa/Desktop/ML_Grad/footy/RF_tree.pdf')"
   ]
  },
  {
   "cell_type": "code",
   "execution_count": 9,
   "id": "deb9caa1",
   "metadata": {},
   "outputs": [
    {
     "name": "stdout",
     "output_type": "stream",
     "text": [
      "Collecting GraphViz\n",
      "  Downloading graphviz-0.20.1-py3-none-any.whl (47 kB)\n",
      "\u001b[2K     \u001b[90m━━━━━━━━━━━━━━━━━━━━━━━━━━━━━━━━━━━━━━━━\u001b[0m \u001b[32m47.0/47.0 kB\u001b[0m \u001b[31m1.2 MB/s\u001b[0m eta \u001b[36m0:00:00\u001b[0m\n",
      "\u001b[?25hInstalling collected packages: GraphViz\n",
      "Successfully installed GraphViz-0.20.1\n",
      "Note: you may need to restart the kernel to use updated packages.\n"
     ]
    }
   ],
   "source": [
    "%pip install GraphViz"
   ]
  },
  {
   "cell_type": "code",
   "execution_count": 10,
   "id": "34d06346",
   "metadata": {},
   "outputs": [
    {
     "data": {
      "image/png": "[encoded data removed]",
      "text/plain": [
       "<Figure size 640x480 with 1 Axes>"
      ]
     },
     "metadata": {},
     "output_type": "display_data"
    }
   ],
   "source": [
    "# print feature importance ranking graph\n",
    "features = np.array(features)\n",
    "sorted_idx = rf.feature_importances_.argsort()\n",
    "plt.barh(features[sorted_idx], rf.feature_importances_[sorted_idx])\n",
    "plt.xlabel(\"Random Forest Feature Importance\")\n",
    "plt.show()"
   ]
  },
  {
   "cell_type": "code",
   "execution_count": 9,
   "id": "7db4e59c",
   "metadata": {},
   "outputs": [],
   "source": []
  },
  {
   "cell_type": "code",
   "execution_count": null,
   "id": "b02d51ef",
   "metadata": {},
   "outputs": [],
   "source": []
  }
 ],
 "metadata": {
  "kernelspec": {
   "display_name": "Python 3 (ipykernel)",
   "language": "python",
   "name": "python3"
  },
  "language_info": {
   "codemirror_mode": {
    "name": "ipython",
    "version": 3
   },
   "file_extension": ".py",
   "mimetype": "text/x-python",
   "name": "python",
   "nbconvert_exporter": "python",
   "pygments_lexer": "ipython3",
   "version": "3.11.0"
  }
 },
 "nbformat": 4,
 "nbformat_minor": 5
}
